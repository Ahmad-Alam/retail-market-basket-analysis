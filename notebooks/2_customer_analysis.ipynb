{
 "cells": [
  {
   "cell_type": "markdown",
   "id": "4fd11ede-7287-446c-9c55-2ccf0564f0ab",
   "metadata": {},
   "source": [
    "# Customer Analysis Notebook\n",
    "\n",
    "## Online Retail Dataset Analysis\n",
    "\n",
    "### Setup and Data Loading"
   ]
  },
  {
   "cell_type": "code",
   "execution_count": 2,
   "id": "e04e071e-acab-4eba-89bb-c9bcfada7fc4",
   "metadata": {},
   "outputs": [],
   "source": [
    "# Import required libraries\n",
    "import pandas as pd\n",
    "import numpy as np\n",
    "import matplotlib.pyplot as plt\n",
    "import seaborn as sns\n",
    "from datetime import datetime\n",
    "import warnings\n",
    "\n",
    "# Plotting settings\n",
    "warnings.filterwarnings('ignore')\n",
    "%matplotlib inline\n",
    "\n",
    "# Set pandas display options\n",
    "pd.set_option('display.max_columns', None)\n",
    "pd.set_option('display.float_format', lambda x: '%.3f' % x)"
   ]
  },
  {
   "cell_type": "markdown",
   "id": "ec3f9c7e-5fa1-4d39-b051-dfa40e97c354",
   "metadata": {},
   "source": [
    "### Loading and Initial Inspection of Cleaned Data"
   ]
  },
  {
   "cell_type": "code",
   "execution_count": 3,
   "id": "670d7bf4-9e27-4ef0-ac5c-0d6ee47955b3",
   "metadata": {},
   "outputs": [
    {
     "name": "stdout",
     "output_type": "stream",
     "text": [
      "Dataset Info:\n",
      "<class 'pandas.core.frame.DataFrame'>\n",
      "RangeIndex: 397924 entries, 0 to 397923\n",
      "Data columns (total 14 columns):\n",
      " #   Column       Non-Null Count   Dtype  \n",
      "---  ------       --------------   -----  \n",
      " 0   InvoiceNo    397924 non-null  int64  \n",
      " 1   StockCode    397924 non-null  object \n",
      " 2   Description  397924 non-null  object \n",
      " 3   Quantity     397924 non-null  int64  \n",
      " 4   InvoiceDate  397924 non-null  object \n",
      " 5   UnitPrice    397924 non-null  float64\n",
      " 6   CustomerID   397924 non-null  int64  \n",
      " 7   Country      397924 non-null  object \n",
      " 8   Year         397924 non-null  int64  \n",
      " 9   Month        397924 non-null  int64  \n",
      " 10  Day          397924 non-null  int64  \n",
      " 11  Hour         397924 non-null  int64  \n",
      " 12  TotalAmount  397924 non-null  float64\n",
      " 13  IsOrder      397924 non-null  bool   \n",
      "dtypes: bool(1), float64(2), int64(7), object(4)\n",
      "memory usage: 39.8+ MB\n",
      "None\n",
      "\n",
      "Sample of first few rows:\n",
      "   InvoiceNo StockCode                          Description  Quantity  \\\n",
      "0     536365    85123A   White Hanging Heart T-Light Holder         6   \n",
      "1     536365     71053                  White Metal Lantern         6   \n",
      "2     536365    84406B       Cream Cupid Hearts Coat Hanger         8   \n",
      "3     536365    84029G  Knitted Union Flag Hot Water Bottle         6   \n",
      "4     536365    84029E       Red Woolly Hottie White Heart.         6   \n",
      "\n",
      "           InvoiceDate  UnitPrice  CustomerID         Country  Year  Month  \\\n",
      "0  2010-12-01 08:26:00      2.550       17850  United Kingdom  2010     12   \n",
      "1  2010-12-01 08:26:00      3.390       17850  United Kingdom  2010     12   \n",
      "2  2010-12-01 08:26:00      2.750       17850  United Kingdom  2010     12   \n",
      "3  2010-12-01 08:26:00      3.390       17850  United Kingdom  2010     12   \n",
      "4  2010-12-01 08:26:00      3.390       17850  United Kingdom  2010     12   \n",
      "\n",
      "   Day  Hour  TotalAmount  IsOrder  \n",
      "0    1     8       15.300     True  \n",
      "1    1     8       20.340     True  \n",
      "2    1     8       22.000     True  \n",
      "3    1     8       20.340     True  \n",
      "4    1     8       20.340     True  \n"
     ]
    }
   ],
   "source": [
    "# Load the cleaned dataset\n",
    "df = pd.read_csv('../data/online_retail_cleaned.csv')\n",
    "\n",
    "# Display basic information about the dataset\n",
    "print(\"Dataset Info:\")\n",
    "print(df.info())\n",
    "\n",
    "print(\"\\nSample of first few rows:\")\n",
    "print(df.head())"
   ]
  },
  {
   "cell_type": "markdown",
   "id": "92c42510-ab0d-4d34-93ab-174fe0622e10",
   "metadata": {},
   "source": [
    "### Customer Purchase Frequency Analysis"
   ]
  },
  {
   "cell_type": "code",
   "execution_count": 5,
   "id": "3ac8bb29-4b15-4ad6-869a-9b7c915c73a0",
   "metadata": {},
   "outputs": [
    {
     "name": "stdout",
     "output_type": "stream",
     "text": [
      "Purchase Frequency Summary:\n",
      "       CustomerID  purchase_count  customer_lifetime_days  total_spend  \\\n",
      "count    4339.000        4339.000                4339.000     4339.000   \n",
      "mean    15299.937          91.709                 130.419     2053.793   \n",
      "std      1721.890         228.793                 132.039     8988.248   \n",
      "min     12346.000           1.000                   0.000        0.000   \n",
      "25%     13812.500          17.000                   0.000      307.245   \n",
      "50%     15299.000          41.000                  92.000      674.450   \n",
      "75%     16778.500         100.000                 251.500     1661.640   \n",
      "max     18287.000        7847.000                 373.000   280206.020   \n",
      "\n",
      "       avg_days_between_purchases  \n",
      "count                    4339.000  \n",
      "mean                        2.814  \n",
      "std                         7.076  \n",
      "min                         0.000  \n",
      "25%                         0.000  \n",
      "50%                         1.050  \n",
      "75%                         2.873  \n",
      "max                       154.500  \n"
     ]
    },
    {
     "data": {
      "image/png": "[encoded data removed]",
      "text/plain": [
       "<Figure size 720x432 with 1 Axes>"
      ]
     },
     "metadata": {
      "needs_background": "light"
     },
     "output_type": "display_data"
    }
   ],
   "source": [
    "# Calculate purchase frequency metrics per customer\n",
    "df['InvoiceDate'] = pd.to_datetime(df['InvoiceDate'])\n",
    "\n",
    "# Now calculate the frequency metrics\n",
    "customer_frequency = df.groupby('CustomerID').agg({\n",
    "    'InvoiceNo': 'count',\n",
    "    'InvoiceDate': lambda x: (x.max() - x.min()).days,\n",
    "    'TotalAmount': 'sum'\n",
    "}).reset_index()\n",
    "\n",
    "# Calculate average time between purchases\n",
    "customer_frequency['avg_days_between_purchases'] = customer_frequency['InvoiceDate'] / \\\n",
    "                                                 customer_frequency['InvoiceNo']\n",
    "\n",
    "# Add meaningful column names\n",
    "customer_frequency.columns = ['CustomerID', 'purchase_count', 'customer_lifetime_days', \n",
    "                            'total_spend', 'avg_days_between_purchases']\n",
    "\n",
    "# Calculate purchase frequency segments\n",
    "customer_frequency['frequency_segment'] = pd.qcut(customer_frequency['purchase_count'], \n",
    "                                                q=4, labels=['Low', 'Medium', 'High', 'Very High'])\n",
    "\n",
    "# Display summary statistics\n",
    "print(\"Purchase Frequency Summary:\")\n",
    "print(customer_frequency.describe())\n",
    "\n",
    "# Create frequency distribution plot\n",
    "plt.figure(figsize=(10, 6))\n",
    "sns.histplot(data=customer_frequency, x='purchase_count', bins=50)\n",
    "plt.title('Distribution of Purchase Frequency')\n",
    "plt.xlabel('Number of Purchases')\n",
    "plt.ylabel('Count of Customers')\n",
    "plt.show()"
   ]
  },
  {
   "cell_type": "markdown",
   "id": "7b228859-89d3-40ee-b458-2c98deb29c49",
   "metadata": {},
   "source": [
    "### Customer Revenue Analysis"
   ]
  },
  {
   "cell_type": "code",
   "execution_count": 6,
   "id": "ec7c38f1-f5b4-4537-9a32-ac4940752e5e",
   "metadata": {},
   "outputs": [
    {
     "data": {
      "image/png": "[encoded data removed]",
      "text/plain": [
       "<Figure size 864x432 with 1 Axes>"
      ]
     },
     "metadata": {
      "needs_background": "light"
     },
     "output_type": "display_data"
    }
   ],
   "source": [
    "# Calculate key revenue metrics\n",
    "revenue_metrics = customer_frequency.agg({\n",
    "    'total_spend': ['mean', 'median', 'std', 'min', 'max'],\n",
    "    'CustomerID': 'count'\n",
    "}).round(2)\n",
    "\n",
    "# Create revenue segments\n",
    "customer_frequency['revenue_segment'] = pd.qcut(customer_frequency['total_spend'], \n",
    "                                              q=4, labels=['Bronze', 'Silver', 'Gold', 'Platinum'])\n",
    "\n",
    "# Calculate revenue contribution by segment\n",
    "revenue_by_segment = customer_frequency.groupby('revenue_segment').agg({\n",
    "    'total_spend': 'sum',\n",
    "    'CustomerID': 'count'\n",
    "}).reset_index()\n",
    "\n",
    "revenue_by_segment['revenue_percentage'] = (revenue_by_segment['total_spend'] / \n",
    "                                          revenue_by_segment['total_spend'].sum() * 100)\n",
    "\n",
    "# Create revenue distribution visualization\n",
    "plt.figure(figsize=(12, 6))\n",
    "sns.boxplot(data=customer_frequency, x='revenue_segment', y='total_spend')\n",
    "plt.title('Revenue Distribution by Customer Segment')\n",
    "plt.yscale('log')\n",
    "plt.xlabel('Customer Segment')\n",
    "plt.ylabel('Total Spend (log scale)')\n",
    "plt.show()"
   ]
  },
  {
   "cell_type": "markdown",
   "id": "68716b83-bebc-4fdd-85a2-9d10365f9bf4",
   "metadata": {},
   "source": [
    "### Order Value Analysis"
   ]
  },
  {
   "cell_type": "code",
   "execution_count": 7,
   "id": "46f9fc1b-59c4-42a5-a3b2-abb67979834e",
   "metadata": {},
   "outputs": [
    {
     "data": {
      "image/png": "[encoded data removed]",
      "text/plain": [
       "<Figure size 720x432 with 1 Axes>"
      ]
     },
     "metadata": {
      "needs_background": "light"
     },
     "output_type": "display_data"
    },
    {
     "name": "stdout",
     "output_type": "stream",
     "text": [
      "\n",
      "Order Value Summary Statistics:\n",
      "       CustomerID  avg_order_value  median_order_value  std_order_value  \\\n",
      "count    4339.000         4339.000            4339.000         2845.000   \n",
      "mean    15299.940          419.050             398.880          256.600   \n",
      "std      1721.890         1796.320            1780.350         2302.000   \n",
      "min     12346.000            0.000               0.000            0.000   \n",
      "25%     13812.500          178.500             169.370           60.450   \n",
      "50%     15299.000          293.690             289.700          119.190   \n",
      "75%     16778.500          430.020             411.250          223.980   \n",
      "max     18287.000        84236.250           84236.250       119123.950   \n",
      "\n",
      "       order_count  \n",
      "count     4339.000  \n",
      "mean         4.270  \n",
      "std          7.710  \n",
      "min          1.000  \n",
      "25%          1.000  \n",
      "50%          2.000  \n",
      "75%          5.000  \n",
      "max        210.000  \n"
     ]
    }
   ],
   "source": [
    "# Calculate order value metrics per customer\n",
    "order_values = df.groupby(['CustomerID', 'InvoiceNo'])['TotalAmount'].sum().reset_index()\n",
    "order_value_stats = order_values.groupby('CustomerID').agg({\n",
    "    'TotalAmount': ['mean', 'median', 'std', 'count']\n",
    "}).reset_index()\n",
    "\n",
    "order_value_stats.columns = ['CustomerID', 'avg_order_value', 'median_order_value', \n",
    "                           'std_order_value', 'order_count']\n",
    "\n",
    "# Create order value distribution plot\n",
    "plt.figure(figsize=(10, 6))\n",
    "sns.histplot(data=order_values, x='TotalAmount', bins=50)\n",
    "plt.title('Distribution of Order Values')\n",
    "plt.xlabel('Order Value')\n",
    "plt.ylabel('Frequency')\n",
    "plt.show()\n",
    "\n",
    "# Calculate and display summary statistics\n",
    "print(\"\\nOrder Value Summary Statistics:\")\n",
    "print(order_value_stats.describe().round(2))"
   ]
  },
  {
   "cell_type": "markdown",
   "id": "93beb7a6-b095-4d88-9335-4b8e94c89da6",
   "metadata": {},
   "source": [
    "### RFM Analysis and Customer Segmentation"
   ]
  },
  {
   "cell_type": "code",
   "execution_count": 8,
   "id": "16c3bd97-de53-4750-838b-29f4e8b45a19",
   "metadata": {},
   "outputs": [
    {
     "name": "stdout",
     "output_type": "stream",
     "text": [
      "\n",
      "Customer Segment Distribution:\n",
      "Customer_Segment\n",
      "Need Attention         1475\n",
      "Champions               932\n",
      "Loyal Customers         795\n",
      "Potential Loyalists     574\n",
      "At Risk                 563\n",
      "Name: count, dtype: int64\n"
     ]
    },
    {
     "data": {
      "image/png": "[encoded data removed]",
      "text/plain": [
       "<Figure size 720x432 with 1 Axes>"
      ]
     },
     "metadata": {
      "needs_background": "light"
     },
     "output_type": "display_data"
    }
   ],
   "source": [
    "# Calculate Recency, Frequency, and Monetary metrics\n",
    "current_date = df['InvoiceDate'].max()\n",
    "\n",
    "rfm = df.groupby('CustomerID').agg({\n",
    "    'InvoiceDate': lambda x: (current_date - x.max()).days,  # Recency\n",
    "    'InvoiceNo': 'count',                                    # Frequency\n",
    "    'TotalAmount': 'sum'                                     # Monetary\n",
    "}).reset_index()\n",
    "\n",
    "rfm.columns = ['CustomerID', 'recency', 'frequency', 'monetary']\n",
    "\n",
    "# Create RFM scores (1-5 scale)\n",
    "rfm['R'] = pd.qcut(rfm['recency'], q=5, labels=[5,4,3,2,1])\n",
    "rfm['F'] = pd.qcut(rfm['frequency'], q=5, labels=[1,2,3,4,5])\n",
    "rfm['M'] = pd.qcut(rfm['monetary'], q=5, labels=[1,2,3,4,5])\n",
    "\n",
    "# Calculate RFM Score\n",
    "rfm['RFM_Score'] = rfm['R'].astype(str) + rfm['F'].astype(str) + rfm['M'].astype(str)\n",
    "\n",
    "# Define customer segments\n",
    "def segment_customers(row):\n",
    "    if row['R'] >= 4 and row['F'] >= 4 and row['M'] >= 4:\n",
    "        return 'Champions'\n",
    "    elif row['R'] >= 3 and row['F'] >= 3 and row['M'] >= 3:\n",
    "        return 'Loyal Customers'\n",
    "    elif row['R'] >= 3 and row['F'] >= 1 and row['M'] >= 2:\n",
    "        return 'Potential Loyalists'\n",
    "    elif row['R'] >= 2 and row['F'] <= 2 and row['M'] <= 2:\n",
    "        return 'At Risk'\n",
    "    else:\n",
    "        return 'Need Attention'\n",
    "\n",
    "rfm['Customer_Segment'] = rfm.apply(segment_customers, axis=1)\n",
    "\n",
    "# Display segment distribution\n",
    "segment_dist = rfm['Customer_Segment'].value_counts()\n",
    "print(\"\\nCustomer Segment Distribution:\")\n",
    "print(segment_dist)\n",
    "\n",
    "# Visualize segments\n",
    "plt.figure(figsize=(10, 6))\n",
    "segment_dist.plot(kind='bar')\n",
    "plt.title('Distribution of Customer Segments')\n",
    "plt.xlabel('Segment')\n",
    "plt.ylabel('Number of Customers')\n",
    "plt.xticks(rotation=45)\n",
    "plt.tight_layout()\n",
    "plt.show()"
   ]
  },
  {
   "cell_type": "markdown",
   "id": "51b7751d-5c79-494c-b62a-0ef7d986a7d7",
   "metadata": {},
   "source": [
    "### Export Analysis Results"
   ]
  },
  {
   "cell_type": "code",
   "execution_count": 9,
   "id": "daf2f531-510e-4510-9488-da3b4b9ae81a",
   "metadata": {},
   "outputs": [
    {
     "name": "stdout",
     "output_type": "stream",
     "text": [
      "\n",
      "Customer Analysis Summary:\n",
      "Total number of customers analyzed: 4339\n",
      "Total revenue analyzed: $8,911,407.90\n",
      "\n",
      "Top 5 customers by total spend:\n",
      "      CustomerID  total_spend  purchase_count     Customer_Segment\n",
      "1690       14646   280206.020            2080            Champions\n",
      "4202       18102   259657.300             431            Champions\n",
      "3729       17450   194550.790             337            Champions\n",
      "3009       16446   168472.500               3  Potential Loyalists\n",
      "1880       14911   143825.060            5677            Champions\n"
     ]
    }
   ],
   "source": [
    "# Combine all customer metrics\n",
    "customer_analysis = pd.merge(customer_frequency, order_value_stats, on='CustomerID')\n",
    "customer_analysis = pd.merge(customer_analysis, rfm[['CustomerID', 'Customer_Segment']], \n",
    "                           on='CustomerID')\n",
    "\n",
    "# Export results to CSV\n",
    "customer_analysis.to_csv('../data/customer_analysis_results.csv', index=False)\n",
    "\n",
    "# Display final summary\n",
    "print(\"\\nCustomer Analysis Summary:\")\n",
    "print(f\"Total number of customers analyzed: {len(customer_analysis)}\")\n",
    "print(f\"Total revenue analyzed: ${customer_analysis['total_spend'].sum():,.2f}\")\n",
    "print(\"\\nTop 5 customers by total spend:\")\n",
    "print(customer_analysis.nlargest(5, 'total_spend')[\n",
    "    ['CustomerID', 'total_spend', 'purchase_count', 'Customer_Segment']\n",
    "])"
   ]
  }
 ],
 "metadata": {
  "kernelspec": {
   "display_name": "Python 3 (ipykernel)",
   "language": "python",
   "name": "python3"
  },
  "language_info": {
   "codemirror_mode": {
    "name": "ipython",
    "version": 3
   },
   "file_extension": ".py",
   "mimetype": "text/x-python",
   "name": "python",
   "nbconvert_exporter": "python",
   "pygments_lexer": "ipython3",
   "version": "3.10.12"
  }
 },
 "nbformat": 4,
 "nbformat_minor": 5
}
