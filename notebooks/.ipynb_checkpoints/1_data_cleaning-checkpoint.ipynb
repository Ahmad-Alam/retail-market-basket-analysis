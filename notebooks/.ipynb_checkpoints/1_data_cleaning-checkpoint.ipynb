{
 "cells": [
  {
   "cell_type": "markdown",
   "id": "25a19538-d5bc-4fad-bdea-6851f91aa315",
   "metadata": {},
   "source": [
    "# Data Cleaning and Preparation\n",
    "## UCI ML Online Retail Dataset\n",
    "\n",
    "### Introduction\n",
    "This notebook performs initial data cleaning and preparation on the Online Retail dataset. The cleaning process includes handling missing values, data type conversions, currency normalization, and basic validation checks.\n",
    "\n",
    "### Import Required Libraries"
   ]
  },
  {
   "cell_type": "code",
   "execution_count": null,
   "id": "7137755b-937c-49af-9ee4-799fe043fb26",
   "metadata": {},
   "outputs": [],
   "source": [
    "import pandas as pd\n",
    "import numpy as np\n",
    "import matplotlib.pyplot as plt\n",
    "import seaborn as sns\n",
    "from datetime import datetime\n",
    "import warnings\n",
    "\n",
    "# Set display options and suppress warnings\n",
    "pd.set_option('display.max_columns', None)\n",
    "warnings.filterwarnings('ignore')\n",
    "\n",
    "print(\"Libraries imported successfully!\")"
   ]
  },
  {
   "cell_type": "markdown",
   "id": "4b78288f-b651-4e28-a6a5-8be6c874f2ef",
   "metadata": {},
   "source": [
    "### Load and Initial Data Inspection"
   ]
  },
  {
   "cell_type": "code",
   "execution_count": 8,
   "id": "1beea70c-b302-45bf-a5eb-f775edc793a6",
   "metadata": {},
   "outputs": [
    {
     "name": "stdout",
     "output_type": "stream",
     "text": [
      "Dataset Shape: (541909, 8)\n",
      "\n",
      "First few rows:\n",
      "  InvoiceNo StockCode                          Description  Quantity  \\\n",
      "0    536365    85123A   WHITE HANGING HEART T-LIGHT HOLDER         6   \n",
      "1    536365     71053                  WHITE METAL LANTERN         6   \n",
      "2    536365    84406B       CREAM CUPID HEARTS COAT HANGER         8   \n",
      "3    536365    84029G  KNITTED UNION FLAG HOT WATER BOTTLE         6   \n",
      "4    536365    84029E       RED WOOLLY HOTTIE WHITE HEART.         6   \n",
      "\n",
      "          InvoiceDate  UnitPrice  CustomerID         Country  \n",
      "0 2010-12-01 08:26:00      2.550   17850.000  United Kingdom  \n",
      "1 2010-12-01 08:26:00      3.390   17850.000  United Kingdom  \n",
      "2 2010-12-01 08:26:00      2.750   17850.000  United Kingdom  \n",
      "3 2010-12-01 08:26:00      3.390   17850.000  United Kingdom  \n",
      "4 2010-12-01 08:26:00      3.390   17850.000  United Kingdom  \n",
      "\n",
      "Dataset Info:\n",
      "<class 'pandas.core.frame.DataFrame'>\n",
      "RangeIndex: 541909 entries, 0 to 541908\n",
      "Data columns (total 8 columns):\n",
      " #   Column       Non-Null Count   Dtype         \n",
      "---  ------       --------------   -----         \n",
      " 0   InvoiceNo    541909 non-null  object        \n",
      " 1   StockCode    541909 non-null  object        \n",
      " 2   Description  540455 non-null  object        \n",
      " 3   Quantity     541909 non-null  int64         \n",
      " 4   InvoiceDate  541909 non-null  datetime64[ns]\n",
      " 5   UnitPrice    541909 non-null  float64       \n",
      " 6   CustomerID   406829 non-null  float64       \n",
      " 7   Country      541909 non-null  object        \n",
      "dtypes: datetime64[ns](1), float64(2), int64(1), object(4)\n",
      "memory usage: 33.1+ MB\n"
     ]
    }
   ],
   "source": [
    "# Read the Excel file\n",
    "df = pd.read_excel('../data/online_retail.xlsx')\n",
    "\n",
    "# Display basic information about the dataset\n",
    "print(\"Dataset Shape:\", df.shape)\n",
    "print(\"\\nFirst few rows:\")\n",
    "print(df.head())\n",
    "print(\"\\nDataset Info:\")\n",
    "df.info()"
   ]
  },
  {
   "cell_type": "markdown",
   "id": "66121699-5e88-41fa-a177-cfed3959eccf",
   "metadata": {},
   "source": [
    "### Data Quality Assessment"
   ]
  },
  {
   "cell_type": "code",
   "execution_count": 9,
   "id": "a51ff59a-7a47-484e-a9fa-cb59d622075e",
   "metadata": {},
   "outputs": [
    {
     "name": "stdout",
     "output_type": "stream",
     "text": [
      "Missing Values Analysis:\n",
      "InvoiceNo: 0 missing values (0.00%)\n",
      "StockCode: 0 missing values (0.00%)\n",
      "Description: 1454 missing values (0.27%)\n",
      "Quantity: 0 missing values (0.00%)\n",
      "InvoiceDate: 0 missing values (0.00%)\n",
      "UnitPrice: 0 missing values (0.00%)\n",
      "CustomerID: 135080 missing values (24.93%)\n",
      "Country: 0 missing values (0.00%)\n",
      "\n",
      "Number of duplicate rows: 5268\n",
      "\n",
      "Numerical Columns Statistics:\n",
      "        Quantity                    InvoiceDate  UnitPrice  CustomerID\n",
      "count 541909.000                         541909 541909.000  406829.000\n",
      "mean       9.552  2011-07-04 13:34:57.156386048      4.611   15287.691\n",
      "min   -80995.000            2010-12-01 08:26:00 -11062.060   12346.000\n",
      "25%        1.000            2011-03-28 11:34:00      1.250   13953.000\n",
      "50%        3.000            2011-07-19 17:17:00      2.080   15152.000\n",
      "75%       10.000            2011-10-19 11:27:00      4.130   16791.000\n",
      "max    80995.000            2011-12-09 12:50:00  38970.000   18287.000\n",
      "std      218.081                            NaN     96.760    1713.600\n"
     ]
    }
   ],
   "source": [
    "# Check missing values\n",
    "missing_values = df.isnull().sum()\n",
    "missing_percentages = (missing_values / len(df)) * 100\n",
    "\n",
    "print(\"Missing Values Analysis:\")\n",
    "for col in df.columns:\n",
    "    print(f\"{col}: {missing_values[col]} missing values ({missing_percentages[col]:.2f}%)\")\n",
    "\n",
    "# Check for duplicates\n",
    "duplicates = df.duplicated().sum()\n",
    "print(f\"\\nNumber of duplicate rows: {duplicates}\")\n",
    "\n",
    "# Basic statistics of numerical columns\n",
    "print(\"\\nNumerical Columns Statistics:\")\n",
    "print(df.describe())"
   ]
  },
  {
   "cell_type": "markdown",
   "id": "440e56e2-cbd2-4cf8-9e37-f7eb74275928",
   "metadata": {},
   "source": [
    "### Handle Missing Values and Invalid Entries"
   ]
  },
  {
   "cell_type": "code",
   "execution_count": 10,
   "id": "8c27803d-b6c9-44ad-9486-4f46cf913472",
   "metadata": {},
   "outputs": [
    {
     "name": "stdout",
     "output_type": "stream",
     "text": [
      "Rows before cleaning: 541909\n",
      "Rows after cleaning: 397924\n"
     ]
    }
   ],
   "source": [
    "# Make a copy of the original dataframe\n",
    "df_cleaned = df.copy()\n",
    "\n",
    "# Remove rows with missing CustomerID (these are typically canceled orders)\n",
    "df_cleaned = df_cleaned.dropna(subset=['CustomerID'])\n",
    "\n",
    "# Convert CustomerID to integer type\n",
    "df_cleaned['CustomerID'] = df_cleaned['CustomerID'].astype(int)\n",
    "\n",
    "# Remove rows with invalid quantities (<=0) or unit prices (<0)\n",
    "df_cleaned = df_cleaned[df_cleaned['Quantity'] > 0]\n",
    "df_cleaned = df_cleaned[df_cleaned['UnitPrice'] >= 0]\n",
    "\n",
    "print(\"Rows before cleaning:\", len(df))\n",
    "print(\"Rows after cleaning:\", len(df_cleaned))"
   ]
  },
  {
   "cell_type": "markdown",
   "id": "0787b2a4-69e5-4aa8-9b27-d3ddbf75c172",
   "metadata": {},
   "source": [
    "### Data Type Conversions and Format Standardization"
   ]
  },
  {
   "cell_type": "code",
   "execution_count": 11,
   "id": "e0be0f95-9ec7-4fef-83e9-b39d20632c64",
   "metadata": {},
   "outputs": [
    {
     "name": "stdout",
     "output_type": "stream",
     "text": [
      "Updated DataFrame Info:\n",
      "<class 'pandas.core.frame.DataFrame'>\n",
      "Index: 397924 entries, 0 to 541908\n",
      "Data columns (total 12 columns):\n",
      " #   Column       Non-Null Count   Dtype         \n",
      "---  ------       --------------   -----         \n",
      " 0   InvoiceNo    397924 non-null  object        \n",
      " 1   StockCode    397924 non-null  object        \n",
      " 2   Description  397924 non-null  object        \n",
      " 3   Quantity     397924 non-null  int64         \n",
      " 4   InvoiceDate  397924 non-null  datetime64[ns]\n",
      " 5   UnitPrice    397924 non-null  float64       \n",
      " 6   CustomerID   397924 non-null  int64         \n",
      " 7   Country      397924 non-null  object        \n",
      " 8   Year         397924 non-null  int32         \n",
      " 9   Month        397924 non-null  int32         \n",
      " 10  Day          397924 non-null  int32         \n",
      " 11  Hour         397924 non-null  int32         \n",
      "dtypes: datetime64[ns](1), float64(1), int32(4), int64(2), object(4)\n",
      "memory usage: 33.4+ MB\n"
     ]
    }
   ],
   "source": [
    "# Convert InvoiceDate to datetime\n",
    "df_cleaned['InvoiceDate'] = pd.to_datetime(df_cleaned['InvoiceDate'])\n",
    "\n",
    "# Create additional date-related features\n",
    "df_cleaned['Year'] = df_cleaned['InvoiceDate'].dt.year\n",
    "df_cleaned['Month'] = df_cleaned['InvoiceDate'].dt.month\n",
    "df_cleaned['Day'] = df_cleaned['InvoiceDate'].dt.day\n",
    "df_cleaned['Hour'] = df_cleaned['InvoiceDate'].dt.hour\n",
    "\n",
    "# Convert string columns to proper case\n",
    "df_cleaned['Description'] = df_cleaned['Description'].str.strip().str.title()\n",
    "df_cleaned['Country'] = df_cleaned['Country'].str.strip().str.title()\n",
    "\n",
    "print(\"Updated DataFrame Info:\")\n",
    "df_cleaned.info()"
   ]
  },
  {
   "cell_type": "markdown",
   "id": "9dcc5ee3-a1bd-4c38-b27b-5481d47b8688",
   "metadata": {},
   "source": [
    "### Add Derived Features"
   ]
  },
  {
   "cell_type": "code",
   "execution_count": 13,
   "id": "e6350008-473b-4625-bfea-a11fc5949c1d",
   "metadata": {},
   "outputs": [
    {
     "name": "stdout",
     "output_type": "stream",
     "text": [
      "Sample of derived features:\n",
      "  InvoiceNo  TotalAmount  IsOrder\n",
      "0    536365       15.300     True\n",
      "1    536365       20.340     True\n",
      "2    536365       22.000     True\n",
      "3    536365       20.340     True\n",
      "4    536365       20.340     True\n"
     ]
    }
   ],
   "source": [
    "# Calculate total amount per transaction\n",
    "df_cleaned['TotalAmount'] = df_cleaned['Quantity'] * df_cleaned['UnitPrice']\n",
    "\n",
    "# Convert InvoiceNo to string type first\n",
    "df_cleaned['InvoiceNo'] = df_cleaned['InvoiceNo'].astype(str)\n",
    "\n",
    "# Create invoice type flag (C for canceled orders)\n",
    "df_cleaned['IsOrder'] = ~df_cleaned['InvoiceNo'].str.contains('C', na=False)\n",
    "\n",
    "print(\"Sample of derived features:\")\n",
    "print(df_cleaned[['InvoiceNo', 'TotalAmount', 'IsOrder']].head())"
   ]
  },
  {
   "cell_type": "markdown",
   "id": "44dc8122-17b6-4d63-98c9-ca28578d9207",
   "metadata": {},
   "source": [
    "### Data Validation and Quality Checks"
   ]
  },
  {
   "cell_type": "code",
   "execution_count": 14,
   "id": "56ab1de9-9e16-40bc-9434-4fb6258ae49a",
   "metadata": {},
   "outputs": [
    {
     "name": "stdout",
     "output_type": "stream",
     "text": [
      "Validation Results:\n",
      "no_missing_values: Passed\n",
      "positive_quantities: Passed\n",
      "valid_prices: Passed\n",
      "valid_customer_ids: Passed\n",
      "valid_total_amounts: Passed\n",
      "\n",
      "Cleaned Dataset Statistics:\n",
      "        Quantity                    InvoiceDate  UnitPrice  CustomerID  \\\n",
      "count 397924.000                         397924 397924.000  397924.000   \n",
      "mean      13.022  2011-07-10 23:43:36.912475648      3.116   15294.315   \n",
      "min        1.000            2010-12-01 08:26:00      0.000   12346.000   \n",
      "25%        2.000            2011-04-07 11:12:00      1.250   13969.000   \n",
      "50%        6.000            2011-07-31 14:39:00      1.950   15159.000   \n",
      "75%       12.000            2011-10-20 14:33:00      3.750   16795.000   \n",
      "max    80995.000            2011-12-09 12:50:00   8142.750   18287.000   \n",
      "std      180.420                            NaN     22.097    1713.170   \n",
      "\n",
      "            Year      Month        Day       Hour  TotalAmount  \n",
      "count 397924.000 397924.000 397924.000 397924.000   397924.000  \n",
      "mean    2010.934      7.613     15.042     12.728       22.395  \n",
      "min     2010.000      1.000      1.000      6.000        0.000  \n",
      "25%     2011.000      5.000      7.000     11.000        4.680  \n",
      "50%     2011.000      8.000     15.000     13.000       11.800  \n",
      "75%     2011.000     11.000     22.000     14.000       19.800  \n",
      "max     2011.000     12.000     31.000     20.000   168469.600  \n",
      "std        0.248      3.417      8.654      2.274      309.056  \n"
     ]
    }
   ],
   "source": [
    "def validate_dataset(df):\n",
    "    \"\"\"\n",
    "    Perform final validation checks on the cleaned dataset\n",
    "    Returns dictionary with validation results\n",
    "    \"\"\"\n",
    "    validation_results = {\n",
    "        'no_missing_values': df.isnull().sum().sum() == 0,\n",
    "        'positive_quantities': (df['Quantity'] > 0).all(),\n",
    "        'valid_prices': (df['UnitPrice'] >= 0).all(),\n",
    "        'valid_customer_ids': df['CustomerID'].notna().all(),\n",
    "        'valid_total_amounts': (df['TotalAmount'] >= 0).all()\n",
    "    }\n",
    "    \n",
    "    return validation_results\n",
    "\n",
    "validation_results = validate_dataset(df_cleaned)\n",
    "print(\"Validation Results:\")\n",
    "for check, result in validation_results.items():\n",
    "    print(f\"{check}: {'Passed' if result else 'Failed'}\")\n",
    "\n",
    "# Basic statistics of the cleaned dataset\n",
    "print(\"\\nCleaned Dataset Statistics:\")\n",
    "print(df_cleaned.describe())"
   ]
  },
  {
   "cell_type": "markdown",
   "id": "096c6d51-8ea4-4dd0-9e70-fd8453f376ba",
   "metadata": {},
   "source": [
    "### Save Cleaned Dataset"
   ]
  },
  {
   "cell_type": "code",
   "execution_count": 15,
   "id": "6aac5b19-78f9-4f5d-afb6-934895546886",
   "metadata": {},
   "outputs": [
    {
     "name": "stdout",
     "output_type": "stream",
     "text": [
      "Cleaned dataset saved to: ../data/online_retail_cleaned.csv\n",
      "\n",
      "Final dataset shape: (397924, 14)\n",
      "Memory usage: 36.81 MB\n"
     ]
    }
   ],
   "source": [
    "# Save cleaned dataset to CSV\n",
    "output_path = '../data/online_retail_cleaned.csv'\n",
    "df_cleaned.to_csv(output_path, index=False)\n",
    "print(f\"Cleaned dataset saved to: {output_path}\")\n",
    "\n",
    "# Display final dataset shape and memory usage\n",
    "print(f\"\\nFinal dataset shape: {df_cleaned.shape}\")\n",
    "print(f\"Memory usage: {df_cleaned.memory_usage().sum() / 1024**2:.2f} MB\")\n"
   ]
  }
 ],
 "metadata": {
  "kernelspec": {
   "display_name": "Python 3 (ipykernel)",
   "language": "python",
   "name": "python3"
  },
  "language_info": {
   "codemirror_mode": {
    "name": "ipython",
    "version": 3
   },
   "file_extension": ".py",
   "mimetype": "text/x-python",
   "name": "python",
   "nbconvert_exporter": "python",
   "pygments_lexer": "ipython3",
   "version": "3.10.12"
  }
 },
 "nbformat": 4,
 "nbformat_minor": 5
}
